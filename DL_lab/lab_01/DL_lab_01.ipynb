{
  "nbformat": 4,
  "nbformat_minor": 0,
  "metadata": {
    "colab": {
      "provenance": [],
      "gpuType": "T4"
    },
    "kernelspec": {
      "name": "python3",
      "display_name": "Python 3"
    },
    "language_info": {
      "name": "python"
    },
    "accelerator": "GPU"
  },
  "cells": [
    {
      "cell_type": "code",
      "source": [
        "import torch\n",
        "import numpy as np"
      ],
      "metadata": {
        "id": "tsOWrYiwKyaO"
      },
      "execution_count": 1,
      "outputs": []
    },
    {
      "cell_type": "code",
      "execution_count": 2,
      "metadata": {
        "colab": {
          "base_uri": "https://localhost:8080/"
        },
        "id": "zgBv9OYVKFnt",
        "outputId": "4278cd62-f700-4fba-f2a0-556b94c26481"
      },
      "outputs": [
        {
          "output_type": "stream",
          "name": "stdout",
          "text": [
            "Original Tensor:\n",
            "tensor([[0, 1, 2],\n",
            "        [3, 4, 5],\n",
            "        [6, 7, 8]])\n",
            "\n",
            "Reshaped Tensor (1x9):\n",
            "tensor([[0, 1, 2, 3, 4, 5, 6, 7, 8]])\n",
            "\n",
            "Viewed Tensor (3x3):\n",
            "tensor([[0, 1, 2],\n",
            "        [3, 4, 5],\n",
            "        [6, 7, 8]])\n",
            "\n",
            "Stacked Tensor (2 stacked 3x3 tensors):\n",
            "tensor([[[0, 1, 2],\n",
            "         [3, 4, 5],\n",
            "         [6, 7, 8]],\n",
            "\n",
            "        [[0, 1, 2],\n",
            "         [3, 4, 5],\n",
            "         [6, 7, 8]]])\n",
            "\n",
            "Tensor with Extra Dimension:\n",
            "tensor([[[[0.9059],\n",
            "          [0.3458],\n",
            "          [0.9619]],\n",
            "\n",
            "         [[0.0979],\n",
            "          [0.1330],\n",
            "          [0.7136]],\n",
            "\n",
            "         [[0.0179],\n",
            "          [0.3320],\n",
            "          [0.9477]]]])\n",
            "Squeezed Tensor (removed size 1 dimensions):\n",
            "tensor([[0.9059, 0.3458, 0.9619],\n",
            "        [0.0979, 0.1330, 0.7136],\n",
            "        [0.0179, 0.3320, 0.9477]])\n",
            "\n",
            "Unsqueezed Tensor (adds a dimension at index 0):\n",
            "tensor([[[0.9059, 0.3458, 0.9619],\n",
            "         [0.0979, 0.1330, 0.7136],\n",
            "         [0.0179, 0.3320, 0.9477]]])\n",
            "\n",
            "Unsqueezed Tensor at index 2 (adds a dimension at index 2):\n",
            "tensor([[[0.9059],\n",
            "         [0.3458],\n",
            "         [0.9619]],\n",
            "\n",
            "        [[0.0979],\n",
            "         [0.1330],\n",
            "         [0.7136]],\n",
            "\n",
            "        [[0.0179],\n",
            "         [0.3320],\n",
            "         [0.9477]]])\n"
          ]
        }
      ],
      "source": [
        "#Question 1\n",
        "tensor = torch.arange(9).reshape(3, 3)\n",
        "print(\"Original Tensor:\")\n",
        "print(tensor)\n",
        "print()\n",
        "\n",
        "reshaped_tensor = tensor.view(1, 9)\n",
        "print(\"Reshaped Tensor (1x9):\")\n",
        "print(reshaped_tensor)\n",
        "print()\n",
        "\n",
        "viewed_tensor = reshaped_tensor.view(3, 3)\n",
        "print(\"Viewed Tensor (3x3):\")\n",
        "print(viewed_tensor)\n",
        "print()\n",
        "\n",
        "stacked_tensor = torch.stack([tensor, tensor], dim=0)\n",
        "print(\"Stacked Tensor (2 stacked 3x3 tensors):\")\n",
        "print(stacked_tensor)\n",
        "print()\n",
        "\n",
        "tensor_with_extra_dim = torch.rand(1, 3, 3, 1)\n",
        "print(\"Tensor with Extra Dimension:\")\n",
        "print(tensor_with_extra_dim)\n",
        "squeezed_tensor = tensor_with_extra_dim.squeeze()\n",
        "print(\"Squeezed Tensor (removed size 1 dimensions):\")\n",
        "print(squeezed_tensor)\n",
        "print()\n",
        "\n",
        "unsqueezed_tensor = squeezed_tensor.unsqueeze(0)\n",
        "print(\"Unsqueezed Tensor (adds a dimension at index 0):\")\n",
        "print(unsqueezed_tensor)\n",
        "print()\n",
        "\n",
        "unsqueezed_tensor_2 = squeezed_tensor.unsqueeze(2)\n",
        "print(\"Unsqueezed Tensor at index 2 (adds a dimension at index 2):\")\n",
        "print(unsqueezed_tensor_2)"
      ]
    },
    {
      "cell_type": "code",
      "source": [
        "#Question 2\n",
        "tensor = torch.randn(2, 3, 4)\n",
        "print(\"Original Tensor (Shape: 2x3x4):\")\n",
        "print(tensor)\n",
        "print()\n",
        "permuted_tensor = tensor.permute(2, 1, 0)\n",
        "print(\"Permuted Tensor (Shape: 4x3x2):\")\n",
        "print(permuted_tensor)\n",
        "print()\n",
        "\n",
        "print(\"Shape of original tensor:\", tensor.shape)\n",
        "print(\"Shape of permuted tensor:\", permuted_tensor.shape)"
      ],
      "metadata": {
        "colab": {
          "base_uri": "https://localhost:8080/"
        },
        "id": "8W8aDacDKnRW",
        "outputId": "5041ba4a-761e-435e-c40b-fc80142b1ba3"
      },
      "execution_count": 3,
      "outputs": [
        {
          "output_type": "stream",
          "name": "stdout",
          "text": [
            "Original Tensor (Shape: 2x3x4):\n",
            "tensor([[[-0.0971, -0.7802,  2.7657,  0.4479],\n",
            "         [ 0.4044, -0.2875, -1.6076, -0.1503],\n",
            "         [ 0.7993, -1.0874,  0.5758, -1.0489]],\n",
            "\n",
            "        [[ 1.9351, -0.1659, -0.1499,  0.6623],\n",
            "         [-0.5155,  0.3859, -1.1291, -0.4433],\n",
            "         [ 1.0693,  0.6857,  0.7279,  0.0786]]])\n",
            "\n",
            "Permuted Tensor (Shape: 4x3x2):\n",
            "tensor([[[-0.0971,  1.9351],\n",
            "         [ 0.4044, -0.5155],\n",
            "         [ 0.7993,  1.0693]],\n",
            "\n",
            "        [[-0.7802, -0.1659],\n",
            "         [-0.2875,  0.3859],\n",
            "         [-1.0874,  0.6857]],\n",
            "\n",
            "        [[ 2.7657, -0.1499],\n",
            "         [-1.6076, -1.1291],\n",
            "         [ 0.5758,  0.7279]],\n",
            "\n",
            "        [[ 0.4479,  0.6623],\n",
            "         [-0.1503, -0.4433],\n",
            "         [-1.0489,  0.0786]]])\n",
            "\n",
            "Shape of original tensor: torch.Size([2, 3, 4])\n",
            "Shape of permuted tensor: torch.Size([4, 3, 2])\n"
          ]
        }
      ]
    },
    {
      "cell_type": "code",
      "source": [
        "#Question 3\n",
        "tensor = torch.tensor([[ 1,  2,  3,  4],\n",
        "          [ 5,  6,  7,  8],\n",
        "          [ 9, 10, 11, 12]])\n",
        "print(tensor[1, 2])\n",
        "\n",
        "print(tensor[0,0:3])"
      ],
      "metadata": {
        "colab": {
          "base_uri": "https://localhost:8080/"
        },
        "id": "VwiphLCjKvsV",
        "outputId": "1b22839e-36f2-4d26-c3f7-1c44dd8b5c52"
      },
      "execution_count": 4,
      "outputs": [
        {
          "output_type": "stream",
          "name": "stdout",
          "text": [
            "tensor(7)\n",
            "tensor([1, 2, 3])\n"
          ]
        }
      ]
    },
    {
      "cell_type": "code",
      "source": [
        "#Question 4\n",
        "numpy_array = np.array([[1, 2, 3], [4, 5, 6]])\n",
        "print(numpy_array)\n",
        "print()\n",
        "\n",
        "tensor = torch.tensor(numpy_array)\n",
        "print(tensor)\n",
        "print()\n",
        "\n",
        "back_to_numpy = tensor.numpy()\n",
        "print(back_to_numpy)"
      ],
      "metadata": {
        "colab": {
          "base_uri": "https://localhost:8080/"
        },
        "id": "eVeIuC6yLGEF",
        "outputId": "69238291-d1ba-456b-9c3d-c01858519dac"
      },
      "execution_count": 5,
      "outputs": [
        {
          "output_type": "stream",
          "name": "stdout",
          "text": [
            "[[1 2 3]\n",
            " [4 5 6]]\n",
            "\n",
            "tensor([[1, 2, 3],\n",
            "        [4, 5, 6]])\n",
            "\n",
            "[[1 2 3]\n",
            " [4 5 6]]\n"
          ]
        }
      ]
    },
    {
      "cell_type": "code",
      "source": [
        "#Question 5\n",
        "random_tensor = torch.randn(7, 7)\n",
        "print(random_tensor)\n",
        "print()"
      ],
      "metadata": {
        "colab": {
          "base_uri": "https://localhost:8080/"
        },
        "id": "NXe-ZyXtLNju",
        "outputId": "42c7fa9b-d344-4546-92d5-55b472799e12"
      },
      "execution_count": 6,
      "outputs": [
        {
          "output_type": "stream",
          "name": "stdout",
          "text": [
            "tensor([[-0.5244,  0.8190, -0.0471,  0.6342, -0.5078, -0.1771, -0.7331],\n",
            "        [ 1.9607,  0.0782,  0.1900,  0.7047,  0.7070, -0.9666, -0.5804],\n",
            "        [ 0.3170,  0.6295,  0.5333, -0.2283,  0.5067, -0.4587, -0.6011],\n",
            "        [ 0.5113,  0.4764, -2.3131,  1.7712,  0.2734, -0.8650, -0.3697],\n",
            "        [ 1.0301,  0.1375,  0.0180,  1.0024, -0.1633, -0.1542, -0.7948],\n",
            "        [ 1.0811,  1.2043,  0.6334, -0.4210, -0.3913,  0.8292,  0.1792],\n",
            "        [-0.3141, -2.5052, -0.2016,  0.5982, -0.4330, -0.6082,  0.0057]])\n",
            "\n"
          ]
        }
      ]
    },
    {
      "cell_type": "code",
      "source": [
        "#Question 6\n",
        "random_tensor_1 = torch.randn(7, 7)\n",
        "print(random_tensor_1)\n",
        "print()\n",
        "\n",
        "random_tensor_2 = torch.randn(1, 7)\n",
        "print(random_tensor_1)\n",
        "print()\n",
        "\n",
        "random_tensor_3 = torch.matmul(random_tensor_1,random_tensor_2.T)\n",
        "print(random_tensor_3)\n",
        "print()"
      ],
      "metadata": {
        "colab": {
          "base_uri": "https://localhost:8080/"
        },
        "id": "NA0cOuMlLdTM",
        "outputId": "1dbd2505-3dae-4d5b-f6c2-2ee4c08d15bb"
      },
      "execution_count": 7,
      "outputs": [
        {
          "output_type": "stream",
          "name": "stdout",
          "text": [
            "tensor([[ 1.5856e+00, -5.5983e-01,  1.0828e+00,  5.9335e-01, -5.8050e-01,\n",
            "         -1.3865e+00, -5.6374e-01],\n",
            "        [-1.7047e+00,  8.6551e-01, -3.0140e-01, -5.1794e-01, -1.8635e-01,\n",
            "          1.0518e+00,  1.4174e-03],\n",
            "        [-6.0320e-01, -1.6957e-01, -7.2799e-01, -5.1120e-01, -9.4256e-01,\n",
            "          1.7032e+00, -1.3533e+00],\n",
            "        [-1.4692e+00,  2.4106e-01, -2.5650e-01,  5.2394e-01, -7.5585e-01,\n",
            "          1.3075e+00, -2.9158e-01],\n",
            "        [ 9.1395e-01, -3.5503e-01, -7.4095e-01,  4.3294e-01,  5.7050e-02,\n",
            "         -3.7117e-01,  9.3490e-01],\n",
            "        [-5.9126e-01, -2.7612e-01, -8.7195e-01, -5.6376e-02,  2.8165e-02,\n",
            "          5.1317e-01, -2.0627e+00],\n",
            "        [ 1.8795e-02,  2.4273e+00,  2.8681e+00, -6.7425e-01,  4.9375e-01,\n",
            "         -1.1936e+00,  5.2754e-01]])\n",
            "\n",
            "tensor([[ 1.5856e+00, -5.5983e-01,  1.0828e+00,  5.9335e-01, -5.8050e-01,\n",
            "         -1.3865e+00, -5.6374e-01],\n",
            "        [-1.7047e+00,  8.6551e-01, -3.0140e-01, -5.1794e-01, -1.8635e-01,\n",
            "          1.0518e+00,  1.4174e-03],\n",
            "        [-6.0320e-01, -1.6957e-01, -7.2799e-01, -5.1120e-01, -9.4256e-01,\n",
            "          1.7032e+00, -1.3533e+00],\n",
            "        [-1.4692e+00,  2.4106e-01, -2.5650e-01,  5.2394e-01, -7.5585e-01,\n",
            "          1.3075e+00, -2.9158e-01],\n",
            "        [ 9.1395e-01, -3.5503e-01, -7.4095e-01,  4.3294e-01,  5.7050e-02,\n",
            "         -3.7117e-01,  9.3490e-01],\n",
            "        [-5.9126e-01, -2.7612e-01, -8.7195e-01, -5.6376e-02,  2.8165e-02,\n",
            "          5.1317e-01, -2.0627e+00],\n",
            "        [ 1.8795e-02,  2.4273e+00,  2.8681e+00, -6.7425e-01,  4.9375e-01,\n",
            "         -1.1936e+00,  5.2754e-01]])\n",
            "\n",
            "tensor([[ 0.8368],\n",
            "        [ 0.5239],\n",
            "        [ 0.7792],\n",
            "        [-0.9624],\n",
            "        [-1.7586],\n",
            "        [ 0.9850],\n",
            "        [ 4.2948]])\n",
            "\n"
          ]
        }
      ]
    },
    {
      "cell_type": "code",
      "source": [
        "#Question 7\n",
        "tensor_1 = torch.randn(2, 3)\n",
        "tensor_2 = torch.randn(2, 3)\n",
        "\n",
        "device = torch.device(\"cuda\" if torch.cuda.is_available() else \"cpu\")\n",
        "print(f\"Using device: {device}\")\n",
        "\n",
        "tensor_1 = tensor_1.to(device)\n",
        "tensor_2 = tensor_2.to(device)\n",
        "\n",
        "print(\"Tensor 1:\")\n",
        "print(tensor_1)\n",
        "print()\n",
        "\n",
        "print(\"Tensor 2:\")\n",
        "print(tensor_2)"
      ],
      "metadata": {
        "colab": {
          "base_uri": "https://localhost:8080/"
        },
        "id": "MKMuYmYYLjxl",
        "outputId": "0f5909a4-d4bb-449a-f645-74418ea65a07"
      },
      "execution_count": 8,
      "outputs": [
        {
          "output_type": "stream",
          "name": "stdout",
          "text": [
            "Using device: cuda\n",
            "Tensor 1:\n",
            "tensor([[-1.0722,  1.0127,  0.9785],\n",
            "        [-0.2423,  1.0468, -1.7915]], device='cuda:0')\n",
            "\n",
            "Tensor 2:\n",
            "tensor([[-0.1332,  0.2946,  0.3068],\n",
            "        [-0.2941,  1.0990,  0.7966]], device='cuda:0')\n"
          ]
        }
      ]
    },
    {
      "cell_type": "code",
      "source": [
        "#Question 8\n",
        "tensor_1 = torch.randn(2, 3)\n",
        "tensor_2 = torch.randn(2, 3)\n",
        "\n",
        "tensor_3 = torch.matmul(tensor_1,tensor_2.T)\n",
        "print(tensor_3)"
      ],
      "metadata": {
        "colab": {
          "base_uri": "https://localhost:8080/"
        },
        "id": "rh2oEIMRLvF5",
        "outputId": "0f236189-0aab-4915-deec-c5b38ea7098e"
      },
      "execution_count": 9,
      "outputs": [
        {
          "output_type": "stream",
          "name": "stdout",
          "text": [
            "tensor([[ 1.9162,  2.2982],\n",
            "        [-0.4365, -1.5560]])\n"
          ]
        }
      ]
    },
    {
      "cell_type": "code",
      "source": [
        "#Question 9\n",
        "tensor_1 = torch.randn(2, 3)\n",
        "tensor_2 = torch.randn(2, 3)\n",
        "\n",
        "tensor_3 = torch.matmul(tensor_1,tensor_2.T)\n",
        "print(tensor_3)\n",
        "print()\n",
        "\n",
        "print(\"Maximum value in the tensor:\",tensor_3.max())\n",
        "print(\"Minimum value in the tensor:\",tensor_3.min())"
      ],
      "metadata": {
        "colab": {
          "base_uri": "https://localhost:8080/"
        },
        "id": "xunOl3RgMd9m",
        "outputId": "323cb919-2f2f-4e73-ef6c-f3807d9b241d"
      },
      "execution_count": 11,
      "outputs": [
        {
          "output_type": "stream",
          "name": "stdout",
          "text": [
            "tensor([[-2.3380, -5.3110],\n",
            "        [-0.8052, -0.3053]])\n",
            "\n",
            "Maximum value in the tensor: tensor(-0.3053)\n",
            "Minimum value in the tensor: tensor(-5.3110)\n"
          ]
        }
      ]
    },
    {
      "cell_type": "code",
      "source": [
        "#Question 10\n",
        "tensor_1 = torch.randn(2, 3)\n",
        "tensor_2 = torch.randn(2, 3)\n",
        "\n",
        "tensor_3 = torch.matmul(tensor_1,tensor_2.T)\n",
        "print(tensor_3)\n",
        "print()\n",
        "\n",
        "print(\"Maximum value in the tensor:\",tensor_3.argmax())\n",
        "print(\"Minimum value in the tensor:\",tensor_3.argmin())"
      ],
      "metadata": {
        "colab": {
          "base_uri": "https://localhost:8080/"
        },
        "id": "2VZhfyRDMiZL",
        "outputId": "8b3e9931-a6ea-4d60-d210-92f906082062"
      },
      "execution_count": 12,
      "outputs": [
        {
          "output_type": "stream",
          "name": "stdout",
          "text": [
            "tensor([[ 1.9157,  2.6251],\n",
            "        [ 1.0652, -1.7684]])\n",
            "\n",
            "Maximum value in the tensor: tensor(1)\n",
            "Minimum value in the tensor: tensor(3)\n"
          ]
        }
      ]
    },
    {
      "cell_type": "code",
      "source": [
        "#Question 11\n",
        "torch.manual_seed(7)\n",
        "\n",
        "tensor = torch.randn(1, 1, 1, 7)\n",
        "\n",
        "print(\"Original Tensor:\",tensor)\n",
        "print()\n",
        "\n",
        "squeezed_tensor = tensor.squeeze()\n",
        "print(\"Squeezed Tensor:\",squeezed_tensor)"
      ],
      "metadata": {
        "colab": {
          "base_uri": "https://localhost:8080/"
        },
        "id": "RoiILrDUMthf",
        "outputId": "448e604d-993e-4722-c8cb-b0a37e15e4a8"
      },
      "execution_count": 13,
      "outputs": [
        {
          "output_type": "stream",
          "name": "stdout",
          "text": [
            "Original Tensor: tensor([[[[-0.1468,  0.7861,  0.9468, -1.1143,  1.6908, -0.8948, -0.3556]]]])\n",
            "\n",
            "Squeezed Tensor: tensor([-0.1468,  0.7861,  0.9468, -1.1143,  1.6908, -0.8948, -0.3556])\n"
          ]
        }
      ]
    },
    {
      "cell_type": "code",
      "source": [],
      "metadata": {
        "id": "9k3Svku7NCdN"
      },
      "execution_count": null,
      "outputs": []
    }
  ]
}